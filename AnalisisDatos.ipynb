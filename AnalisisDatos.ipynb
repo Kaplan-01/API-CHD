{
  "nbformat": 4,
  "nbformat_minor": 0,
  "metadata": {
    "colab": {
      "name": "Te damos la bienvenida a Colaboratory",
      "provenance": [],
      "collapsed_sections": [],
      "toc_visible": true,
      "include_colab_link": true
    },
    "kernelspec": {
      "display_name": "Python 3",
      "name": "python3"
    }
  },
  "cells": [
    {
      "cell_type": "markdown",
      "metadata": {
        "id": "view-in-github",
        "colab_type": "text"
      },
      "source": [
        "<a href=\"https://colab.research.google.com/github/MariaDelCarmenHernandezDiaz/API-CHD/blob/master/AnalisisDatos.ipynb\" target=\"_parent\"><img src=\"https://colab.research.google.com/assets/colab-badge.svg\" alt=\"Open In Colab\"/></a>"
      ]
    },
    {
      "cell_type": "markdown",
      "metadata": {
        "id": "hd70u3FBpopn"
      },
      "source": [
        "## **Explore y analice datos con Python**\n"
      ]
    },
    {
      "cell_type": "markdown",
      "metadata": {
        "id": "7jGjN4CKp8pV"
      },
      "source": [
        ""
      ]
    }
  ]
}